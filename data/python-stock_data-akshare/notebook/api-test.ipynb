{
 "cells": [
  {
   "cell_type": "code",
   "execution_count": 1,
   "id": "456918f7-6640-40d6-91e1-931af737f686",
   "metadata": {},
   "outputs": [],
   "source": [
    "import akshare as ak\n",
    "import pandas as pd\n",
    "from sd_core import api\n",
    "from tqdm import tqdm"
   ]
  },
  {
   "cell_type": "code",
   "execution_count": 8,
   "id": "9aa73847",
   "metadata": {},
   "outputs": [
    {
     "data": {
      "text/html": [
       "<div>\n",
       "<style scoped>\n",
       "    .dataframe tbody tr th:only-of-type {\n",
       "        vertical-align: middle;\n",
       "    }\n",
       "\n",
       "    .dataframe tbody tr th {\n",
       "        vertical-align: top;\n",
       "    }\n",
       "\n",
       "    .dataframe thead th {\n",
       "        text-align: right;\n",
       "    }\n",
       "</style>\n",
       "<table border=\"1\" class=\"dataframe\">\n",
       "  <thead>\n",
       "    <tr style=\"text-align: right;\">\n",
       "      <th></th>\n",
       "      <th>证券代码</th>\n",
       "      <th>证券简称</th>\n",
       "      <th>上市日期</th>\n",
       "      <th>板块</th>\n",
       "      <th>交易所</th>\n",
       "      <th>最近日期</th>\n",
       "    </tr>\n",
       "  </thead>\n",
       "  <tbody>\n",
       "    <tr>\n",
       "      <th>0</th>\n",
       "      <td>688001</td>\n",
       "      <td>华兴源创</td>\n",
       "      <td>2019-07-22</td>\n",
       "      <td>科创板</td>\n",
       "      <td>SH</td>\n",
       "      <td>NaN</td>\n",
       "    </tr>\n",
       "    <tr>\n",
       "      <th>1</th>\n",
       "      <td>688002</td>\n",
       "      <td>睿创微纳</td>\n",
       "      <td>2019-07-22</td>\n",
       "      <td>科创板</td>\n",
       "      <td>SH</td>\n",
       "      <td>2023-08-11</td>\n",
       "    </tr>\n",
       "    <tr>\n",
       "      <th>2</th>\n",
       "      <td>688003</td>\n",
       "      <td>天准科技</td>\n",
       "      <td>2019-07-22</td>\n",
       "      <td>科创板</td>\n",
       "      <td>SH</td>\n",
       "      <td>NaN</td>\n",
       "    </tr>\n",
       "    <tr>\n",
       "      <th>3</th>\n",
       "      <td>688004</td>\n",
       "      <td>博汇科技</td>\n",
       "      <td>2020-06-12</td>\n",
       "      <td>科创板</td>\n",
       "      <td>SH</td>\n",
       "      <td>2023-08-11</td>\n",
       "    </tr>\n",
       "    <tr>\n",
       "      <th>4</th>\n",
       "      <td>688005</td>\n",
       "      <td>容百科技</td>\n",
       "      <td>2019-07-22</td>\n",
       "      <td>科创板</td>\n",
       "      <td>SH</td>\n",
       "      <td>NaN</td>\n",
       "    </tr>\n",
       "    <tr>\n",
       "      <th>...</th>\n",
       "      <td>...</td>\n",
       "      <td>...</td>\n",
       "      <td>...</td>\n",
       "      <td>...</td>\n",
       "      <td>...</td>\n",
       "      <td>...</td>\n",
       "    </tr>\n",
       "    <tr>\n",
       "      <th>547</th>\n",
       "      <td>688799</td>\n",
       "      <td>华纳药厂</td>\n",
       "      <td>2021-07-13</td>\n",
       "      <td>科创板</td>\n",
       "      <td>SH</td>\n",
       "      <td>2023-08-11</td>\n",
       "    </tr>\n",
       "    <tr>\n",
       "      <th>548</th>\n",
       "      <td>688800</td>\n",
       "      <td>瑞可达</td>\n",
       "      <td>2021-07-22</td>\n",
       "      <td>科创板</td>\n",
       "      <td>SH</td>\n",
       "      <td>2023-08-11</td>\n",
       "    </tr>\n",
       "    <tr>\n",
       "      <th>549</th>\n",
       "      <td>688819</td>\n",
       "      <td>天能股份</td>\n",
       "      <td>2021-01-18</td>\n",
       "      <td>科创板</td>\n",
       "      <td>SH</td>\n",
       "      <td>2023-08-11</td>\n",
       "    </tr>\n",
       "    <tr>\n",
       "      <th>550</th>\n",
       "      <td>688981</td>\n",
       "      <td>中芯国际</td>\n",
       "      <td>2020-07-16</td>\n",
       "      <td>科创板</td>\n",
       "      <td>SH</td>\n",
       "      <td>2023-08-11</td>\n",
       "    </tr>\n",
       "    <tr>\n",
       "      <th>551</th>\n",
       "      <td>689009</td>\n",
       "      <td>九号公司</td>\n",
       "      <td>2020-10-29</td>\n",
       "      <td>科创板</td>\n",
       "      <td>SH</td>\n",
       "      <td>NaN</td>\n",
       "    </tr>\n",
       "  </tbody>\n",
       "</table>\n",
       "<p>552 rows × 6 columns</p>\n",
       "</div>"
      ],
      "text/plain": [
       "       证券代码  证券简称        上市日期   板块 交易所        最近日期\n",
       "0    688001  华兴源创  2019-07-22  科创板  SH         NaN\n",
       "1    688002  睿创微纳  2019-07-22  科创板  SH  2023-08-11\n",
       "2    688003  天准科技  2019-07-22  科创板  SH         NaN\n",
       "3    688004  博汇科技  2020-06-12  科创板  SH  2023-08-11\n",
       "4    688005  容百科技  2019-07-22  科创板  SH         NaN\n",
       "..      ...   ...         ...  ...  ..         ...\n",
       "547  688799  华纳药厂  2021-07-13  科创板  SH  2023-08-11\n",
       "548  688800   瑞可达  2021-07-22  科创板  SH  2023-08-11\n",
       "549  688819  天能股份  2021-01-18  科创板  SH  2023-08-11\n",
       "550  688981  中芯国际  2020-07-16  科创板  SH  2023-08-11\n",
       "551  689009  九号公司  2020-10-29  科创板  SH         NaN\n",
       "\n",
       "[552 rows x 6 columns]"
      ]
     },
     "execution_count": 8,
     "metadata": {},
     "output_type": "execute_result"
    }
   ],
   "source": [
    "kc = api._get_sh_kc()\n",
    "df = api._get_latest_day()\n",
    "pp = pd.merge(kc, df, how=\"left\", on=\"证券代码\")\n",
    "pp"
   ]
  },
  {
   "cell_type": "code",
   "execution_count": null,
   "id": "a5d8b356",
   "metadata": {},
   "outputs": [],
   "source": [
    "api._get_etf()"
   ]
  },
  {
   "cell_type": "code",
   "execution_count": null,
   "id": "cca61180-1549-485c-8094-4794f534765d",
   "metadata": {},
   "outputs": [],
   "source": [
    "api._get_etf_netvalue(\"513060\")"
   ]
  },
  {
   "cell_type": "code",
   "execution_count": null,
   "id": "163a3c75-7cff-4da8-b84f-58f7c6f8337f",
   "metadata": {},
   "outputs": [],
   "source": [
    "api._get_bj()"
   ]
  },
  {
   "cell_type": "code",
   "execution_count": null,
   "id": "e32ccba2-9514-4055-9f4d-ebda90d73d84",
   "metadata": {},
   "outputs": [],
   "source": [
    "api._get_sz()"
   ]
  },
  {
   "cell_type": "code",
   "execution_count": null,
   "id": "d6267390-52df-4a0d-adff-e7cdd364508d",
   "metadata": {},
   "outputs": [],
   "source": [
    "api._get_sh_kc()"
   ]
  },
  {
   "cell_type": "code",
   "execution_count": null,
   "id": "a52bc0aa-5c6f-46ff-9d84-f4d97f376e30",
   "metadata": {},
   "outputs": [],
   "source": [
    "api._get_sh_zb()"
   ]
  },
  {
   "cell_type": "code",
   "execution_count": null,
   "id": "e3c82de7-49cc-4505-a783-15d982129329",
   "metadata": {},
   "outputs": [],
   "source": [
    "api._get_stock_daily('605599')"
   ]
  },
  {
   "cell_type": "code",
   "execution_count": null,
   "id": "584d797b-a7c4-4788-a04c-f6635452ecbf",
   "metadata": {},
   "outputs": [],
   "source": [
    "api._get_etf_daily('513060')"
   ]
  },
  {
   "cell_type": "code",
   "execution_count": null,
   "id": "6ee9fb4f-e99d-450e-ad7c-6a8a46a7449d",
   "metadata": {},
   "outputs": [],
   "source": [
    "api._get_fund_etf()"
   ]
  },
  {
   "cell_type": "code",
   "execution_count": 2,
   "id": "780a3502-1552-4d21-ab74-6d937a415682",
   "metadata": {},
   "outputs": [
    {
     "data": {
      "text/html": [
       "<div>\n",
       "<style scoped>\n",
       "    .dataframe tbody tr th:only-of-type {\n",
       "        vertical-align: middle;\n",
       "    }\n",
       "\n",
       "    .dataframe tbody tr th {\n",
       "        vertical-align: top;\n",
       "    }\n",
       "\n",
       "    .dataframe thead th {\n",
       "        text-align: right;\n",
       "    }\n",
       "</style>\n",
       "<table border=\"1\" class=\"dataframe\">\n",
       "  <thead>\n",
       "    <tr style=\"text-align: right;\">\n",
       "      <th></th>\n",
       "      <th>代码</th>\n",
       "      <th>名称</th>\n",
       "      <th>流通市值</th>\n",
       "      <th>总市值</th>\n",
       "      <th>类别</th>\n",
       "    </tr>\n",
       "  </thead>\n",
       "  <tbody>\n",
       "    <tr>\n",
       "      <th>0</th>\n",
       "      <td>163208</td>\n",
       "      <td>全球油气能源LOF</td>\n",
       "      <td>7129079</td>\n",
       "      <td>7129079</td>\n",
       "      <td>LOF</td>\n",
       "    </tr>\n",
       "    <tr>\n",
       "      <th>1</th>\n",
       "      <td>162307</td>\n",
       "      <td>海富通100LOF</td>\n",
       "      <td>2209030</td>\n",
       "      <td>2209030</td>\n",
       "      <td>LOF</td>\n",
       "    </tr>\n",
       "    <tr>\n",
       "      <th>2</th>\n",
       "      <td>163110</td>\n",
       "      <td>申万量化LOF</td>\n",
       "      <td>9348601</td>\n",
       "      <td>9348601</td>\n",
       "      <td>LOF</td>\n",
       "    </tr>\n",
       "    <tr>\n",
       "      <th>3</th>\n",
       "      <td>166008</td>\n",
       "      <td>中欧强债LOF</td>\n",
       "      <td>453048</td>\n",
       "      <td>453048</td>\n",
       "      <td>LOF</td>\n",
       "    </tr>\n",
       "    <tr>\n",
       "      <th>4</th>\n",
       "      <td>161614</td>\n",
       "      <td>融通四季添利LOF</td>\n",
       "      <td>2493162</td>\n",
       "      <td>2493162</td>\n",
       "      <td>LOF</td>\n",
       "    </tr>\n",
       "    <tr>\n",
       "      <th>...</th>\n",
       "      <td>...</td>\n",
       "      <td>...</td>\n",
       "      <td>...</td>\n",
       "      <td>...</td>\n",
       "      <td>...</td>\n",
       "    </tr>\n",
       "    <tr>\n",
       "      <th>146</th>\n",
       "      <td>161610</td>\n",
       "      <td>融通领先成长LOF</td>\n",
       "      <td>87993496</td>\n",
       "      <td>87993496</td>\n",
       "      <td>LOF</td>\n",
       "    </tr>\n",
       "    <tr>\n",
       "      <th>147</th>\n",
       "      <td>162411</td>\n",
       "      <td>华宝油气LOF</td>\n",
       "      <td>722321852</td>\n",
       "      <td>722321852</td>\n",
       "      <td>LOF</td>\n",
       "    </tr>\n",
       "    <tr>\n",
       "      <th>148</th>\n",
       "      <td>161607</td>\n",
       "      <td>巨潮100LOF</td>\n",
       "      <td>8187980</td>\n",
       "      <td>8187980</td>\n",
       "      <td>LOF</td>\n",
       "    </tr>\n",
       "    <tr>\n",
       "      <th>149</th>\n",
       "      <td>161811</td>\n",
       "      <td>沪深300LOF银华</td>\n",
       "      <td>7724681</td>\n",
       "      <td>7724681</td>\n",
       "      <td>LOF</td>\n",
       "    </tr>\n",
       "    <tr>\n",
       "      <th>150</th>\n",
       "      <td>162207</td>\n",
       "      <td>宏利效率混合LOF</td>\n",
       "      <td>21178417</td>\n",
       "      <td>21178417</td>\n",
       "      <td>LOF</td>\n",
       "    </tr>\n",
       "  </tbody>\n",
       "</table>\n",
       "<p>151 rows × 5 columns</p>\n",
       "</div>"
      ],
      "text/plain": [
       "         代码          名称       流通市值        总市值   类别\n",
       "0    163208   全球油气能源LOF    7129079    7129079  LOF\n",
       "1    162307   海富通100LOF    2209030    2209030  LOF\n",
       "2    163110     申万量化LOF    9348601    9348601  LOF\n",
       "3    166008     中欧强债LOF     453048     453048  LOF\n",
       "4    161614   融通四季添利LOF    2493162    2493162  LOF\n",
       "..      ...         ...        ...        ...  ...\n",
       "146  161610   融通领先成长LOF   87993496   87993496  LOF\n",
       "147  162411     华宝油气LOF  722321852  722321852  LOF\n",
       "148  161607    巨潮100LOF    8187980    8187980  LOF\n",
       "149  161811  沪深300LOF银华    7724681    7724681  LOF\n",
       "150  162207   宏利效率混合LOF   21178417   21178417  LOF\n",
       "\n",
       "[151 rows x 5 columns]"
      ]
     },
     "execution_count": 2,
     "metadata": {},
     "output_type": "execute_result"
    }
   ],
   "source": [
    "api._get_fund_lof()"
   ]
  },
  {
   "cell_type": "code",
   "execution_count": null,
   "id": "8f98639f-ca20-4432-b6e3-1eafc521cc6c",
   "metadata": {},
   "outputs": [],
   "source": [
    "api._get_lof_daily('160218')"
   ]
  },
  {
   "cell_type": "code",
   "execution_count": null,
   "id": "afe1b116-775a-4322-8cac-b2b5bec4766c",
   "metadata": {},
   "outputs": [],
   "source": [
    "api._get_latest_day()"
   ]
  },
  {
   "cell_type": "code",
   "execution_count": null,
   "id": "e9f50624-22cc-470a-94ca-4fb3f6096cc7",
   "metadata": {},
   "outputs": [],
   "source": [
    "api._get_stock_daily('000001')"
   ]
  },
  {
   "cell_type": "code",
   "execution_count": null,
   "id": "c25eebc3-0a3b-46ce-9492-d839df694f7f",
   "metadata": {},
   "outputs": [],
   "source": [
    "api._get_stock_daily('600000')"
   ]
  },
  {
   "cell_type": "code",
   "execution_count": 1,
   "id": "3fd7ca7d-306c-4c14-8b7a-493797538057",
   "metadata": {},
   "outputs": [
    {
     "data": {
      "text/plain": [
       "[('a', '2023-01-01'), ('b', None), ('c', '2023-02-02')]"
      ]
     },
     "execution_count": 1,
     "metadata": {},
     "output_type": "execute_result"
    }
   ],
   "source": [
    "a = [(\"a\",\"2023-01-01\"),(\"b\",None),(\"c\",\"2023-02-02\")]\n",
    "a"
   ]
  },
  {
   "cell_type": "code",
   "execution_count": 4,
   "id": "54f429f6",
   "metadata": {},
   "outputs": [
    {
     "data": {
      "text/plain": [
       "[('a', '20230101'), ('b', None), ('c', '20230202')]"
      ]
     },
     "execution_count": 4,
     "metadata": {},
     "output_type": "execute_result"
    }
   ],
   "source": [
    "list(map(lambda x: (x[0], None if x[1] is None else x[1].replace(\"-\",\"\")),a))"
   ]
  }
 ],
 "metadata": {
  "kernelspec": {
   "display_name": "Python 3 (ipykernel)",
   "language": "python",
   "name": "python3"
  },
  "language_info": {
   "codemirror_mode": {
    "name": "ipython",
    "version": 3
   },
   "file_extension": ".py",
   "mimetype": "text/x-python",
   "name": "python",
   "nbconvert_exporter": "python",
   "pygments_lexer": "ipython3",
   "version": "3.11.4"
  }
 },
 "nbformat": 4,
 "nbformat_minor": 5
}
