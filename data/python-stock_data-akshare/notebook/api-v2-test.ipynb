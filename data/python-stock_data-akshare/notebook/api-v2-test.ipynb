{
 "cells": [
  {
   "cell_type": "code",
   "execution_count": null,
   "id": "456918f7-6640-40d6-91e1-931af737f686",
   "metadata": {},
   "outputs": [],
   "source": [
    "import pandas as pd\n",
    "from sd_core import api_v2\n",
    "from tqdm import tqdm"
   ]
  },
  {
   "cell_type": "code",
   "execution_count": null,
   "id": "6df42c06",
   "metadata": {},
   "outputs": [],
   "source": [
    "api_v2.update_etf_daily()"
   ]
  },
  {
   "cell_type": "code",
   "execution_count": null,
   "id": "007b9c63",
   "metadata": {},
   "outputs": [],
   "source": [
    "api_v2.update_etf_list()"
   ]
  },
  {
   "cell_type": "code",
   "execution_count": null,
   "id": "e696eda5",
   "metadata": {},
   "outputs": [],
   "source": [
    "api_v2.update_fund_daily()"
   ]
  },
  {
   "cell_type": "code",
   "execution_count": null,
   "id": "be6fc97f",
   "metadata": {},
   "outputs": [],
   "source": [
    "api_v2.update_stock_daily()"
   ]
  },
  {
   "cell_type": "code",
   "execution_count": null,
   "id": "604d7bfd",
   "metadata": {},
   "outputs": [],
   "source": [
    "api_v2._get_stock_ids()"
   ]
  },
  {
   "cell_type": "code",
   "execution_count": null,
   "id": "9aa73847",
   "metadata": {},
   "outputs": [],
   "source": [
    "api_v2.update_stock_list()"
   ]
  },
  {
   "cell_type": "code",
   "execution_count": null,
   "id": "c3349a3b",
   "metadata": {},
   "outputs": [],
   "source": [
    "api_v2.update_fund_list()"
   ]
  },
  {
   "cell_type": "code",
   "execution_count": null,
   "id": "9ade3aff",
   "metadata": {},
   "outputs": [],
   "source": [
    "api_v2._get_fund_ids(\"LOF\")"
   ]
  },
  {
   "cell_type": "code",
   "execution_count": null,
   "id": "a5d8b356",
   "metadata": {},
   "outputs": [],
   "source": [
    "api_v2._get_etf()"
   ]
  },
  {
   "cell_type": "code",
   "execution_count": null,
   "id": "cca61180-1549-485c-8094-4794f534765d",
   "metadata": {},
   "outputs": [],
   "source": [
    "api_v2._get_etf_netvalue(\"513060\")"
   ]
  },
  {
   "cell_type": "code",
   "execution_count": null,
   "id": "163a3c75-7cff-4da8-b84f-58f7c6f8337f",
   "metadata": {},
   "outputs": [],
   "source": [
    "api_v2._get_bj()"
   ]
  },
  {
   "cell_type": "code",
   "execution_count": null,
   "id": "e32ccba2-9514-4055-9f4d-ebda90d73d84",
   "metadata": {},
   "outputs": [],
   "source": [
    "api_v2._get_sz()"
   ]
  },
  {
   "cell_type": "code",
   "execution_count": null,
   "id": "d6267390-52df-4a0d-adff-e7cdd364508d",
   "metadata": {},
   "outputs": [],
   "source": [
    "api_v2._get_sh_kc()"
   ]
  },
  {
   "cell_type": "code",
   "execution_count": null,
   "id": "a52bc0aa-5c6f-46ff-9d84-f4d97f376e30",
   "metadata": {},
   "outputs": [],
   "source": [
    "api_v2._get_sh_zb()"
   ]
  },
  {
   "cell_type": "code",
   "execution_count": null,
   "id": "e3c82de7-49cc-4505-a783-15d982129329",
   "metadata": {},
   "outputs": [],
   "source": [
    "api_v2._get_stock_daily('605599')"
   ]
  },
  {
   "cell_type": "code",
   "execution_count": null,
   "id": "584d797b-a7c4-4788-a04c-f6635452ecbf",
   "metadata": {},
   "outputs": [],
   "source": [
    "api_v2._get_etf_daily('513060')"
   ]
  },
  {
   "cell_type": "code",
   "execution_count": null,
   "id": "6ee9fb4f-e99d-450e-ad7c-6a8a46a7449d",
   "metadata": {},
   "outputs": [],
   "source": [
    "api_v2._get_fund_etf()"
   ]
  },
  {
   "cell_type": "code",
   "execution_count": null,
   "id": "780a3502-1552-4d21-ab74-6d937a415682",
   "metadata": {},
   "outputs": [],
   "source": [
    "api_v2._get_fund_lof()"
   ]
  },
  {
   "cell_type": "code",
   "execution_count": null,
   "id": "8f98639f-ca20-4432-b6e3-1eafc521cc6c",
   "metadata": {},
   "outputs": [],
   "source": [
    "api_v2._get_lof_daily('160218')"
   ]
  },
  {
   "cell_type": "code",
   "execution_count": null,
   "id": "afe1b116-775a-4322-8cac-b2b5bec4766c",
   "metadata": {},
   "outputs": [],
   "source": [
    "api_v2._get_latest_day()"
   ]
  },
  {
   "cell_type": "code",
   "execution_count": null,
   "id": "e9f50624-22cc-470a-94ca-4fb3f6096cc7",
   "metadata": {},
   "outputs": [],
   "source": [
    "api_v2._get_stock_daily('000001')"
   ]
  },
  {
   "cell_type": "code",
   "execution_count": null,
   "id": "c25eebc3-0a3b-46ce-9492-d839df694f7f",
   "metadata": {},
   "outputs": [],
   "source": [
    "api_v2._get_stock_daily('600000')"
   ]
  },
  {
   "cell_type": "code",
   "execution_count": null,
   "id": "3fd7ca7d-306c-4c14-8b7a-493797538057",
   "metadata": {},
   "outputs": [],
   "source": [
    "a = [(\"a\",\"2023-01-01\"),(\"b\",None),(\"c\",\"2023-02-02\")]\n",
    "a"
   ]
  },
  {
   "cell_type": "code",
   "execution_count": null,
   "id": "54f429f6",
   "metadata": {},
   "outputs": [],
   "source": [
    "list(map(lambda x: (x[0], None if x[1] is None else x[1].replace(\"-\",\"\")),a))"
   ]
  }
 ],
 "metadata": {
  "kernelspec": {
   "display_name": "Python 3 (ipykernel)",
   "language": "python",
   "name": "python3"
  },
  "language_info": {
   "codemirror_mode": {
    "name": "ipython",
    "version": 3
   },
   "file_extension": ".py",
   "mimetype": "text/x-python",
   "name": "python",
   "nbconvert_exporter": "python",
   "pygments_lexer": "ipython3",
   "version": "3.11.4"
  }
 },
 "nbformat": 4,
 "nbformat_minor": 5
}
