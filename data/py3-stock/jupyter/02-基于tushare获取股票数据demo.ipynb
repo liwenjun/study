{
 "cells": [
  {
   "cell_type": "markdown",
   "metadata": {},
   "source": [
    "## 获取stock数据范例"
   ]
  },
  {
   "cell_type": "code",
   "execution_count": null,
   "metadata": {},
   "outputs": [],
   "source": [
    "import tushare as ts\n",
    "token = '3eca2d2172110e537cdb74242105a1ba412bee6277a0133d3277a46b'\n",
    "#ts.set_token(token)\n",
    "#pro = ts.pro_api()\n",
    "pro = ts.pro_api(token)"
   ]
  },
  {
   "cell_type": "markdown",
   "metadata": {},
   "source": [
    "## 股票列表\n",
    ">* 接口：stock_basic\n",
    ">* 描述：获取基础信息数据，包括股票代码、名称、上市日期、退市日期等\n",
    "\n",
    "**参数**\n",
    ">- is_hs\tstr\t是否沪深港通标的，N否 H沪股通 S深股通\n",
    ">- list_status\tstr\t上市状态： L上市 D退市 P暂停上市，默认L\n",
    ">- exchange\tstr\t交易所 SSE上交所 SZSE深交所 HKEX港交所(未上线)\n",
    "\n",
    "**结果**\n",
    ">- ts_code\tstr\tTS代码\n",
    ">- symbol\tstr\t股票代码\n",
    ">- name\tstr\t股票名称\n",
    ">- area\tstr\t所在地域\n",
    ">- industry\tstr\t所属行业\n",
    ">- fullname\tstr\t股票全称\n",
    ">- enname\tstr\t英文全称\n",
    ">- market\tstr\t市场类型 （主板/中小板/创业板/科创板）\n",
    ">- exchange\tstr\t交易所代码\n",
    ">- curr_type\tstr\t交易货币\n",
    ">- list_status\tstr\t上市状态： L上市 D退市 P暂停上市\n",
    ">- list_date\tstr\t上市日期\n",
    ">- delist_date\tstr\t退市日期\n",
    ">- is_hs\tstr\t是否沪深港通标的，N否 H沪股通 S深股通"
   ]
  },
  {
   "cell_type": "code",
   "execution_count": null,
   "metadata": {},
   "outputs": [],
   "source": [
    "# 查询当前所有正常上市交易的股票列表\n",
    "data = pro.query('stock_basic', exchange='', list_status='L', \n",
    "                 fields='ts_code,symbol,name,area,industry,fullname,enname,market,exchange,curr_type,list_status,list_date,is_hs')\n",
    "data.to_csv('data/stock_basic.csv', index=False)\n",
    "data\n",
    "#data.to_dict(orient='records')"
   ]
  },
  {
   "cell_type": "markdown",
   "metadata": {},
   "source": [
    "## 交易日历\n",
    ">* 接口：trade_cal\n",
    ">* 描述：获取各大交易所交易日历数据,默认提取的是上交所\n",
    "\n",
    "**输入参数**\n",
    "\n",
    ">- 名称\t类型\t必选\t描述\n",
    ">- exchange\tstr\tN\t交易所 SSE上交所,SZSE深交所,CFFEX 中金所,SHFE 上期所,CZCE 郑商所,DCE 大商所,INE 上能源,IB 银行间,XHKG 港交所\n",
    ">- start_date\tstr\tN\t开始日期\n",
    ">- end_date\tstr\tN\t结束日期\n",
    ">- is_open\tstr\tN\t是否交易 '0'休市 '1'交易\n",
    "\n",
    "**输出参数**\n",
    "\n",
    ">- 名称\t类型\t默认显示\t描述\n",
    ">- exchange\tstr\tY\t交易所 SSE上交所 SZSE深交所\n",
    ">- cal_date\tstr\tY\t日历日期\n",
    ">- is_open\tstr\tY\t是否交易 0休市 1交易\n",
    ">- pretrade_date\tstr\tN\t上一个交易日"
   ]
  },
  {
   "cell_type": "code",
   "execution_count": null,
   "metadata": {},
   "outputs": [],
   "source": [
    "data = pro.query('trade_cal', exchange='', start_date='20210930', end_date='20211013')\n",
    "#data.to_csv('data/trade_cal.csv', index=False)\n",
    "data"
   ]
  },
  {
   "cell_type": "markdown",
   "metadata": {},
   "source": [
    "## 上市公司基本信息\n",
    ">* 接口：stock_company\n",
    ">* 描述：获取上市公司基础信息，单次提取4000条，可以根据交易所分批提取\n",
    "\n",
    "**输入参数**\n",
    "\n",
    ">- 名称\t类型\t必须\t描述\n",
    ">- ts_code\tstr\tN\t股票代码\n",
    ">- exchange\tstr\tN\t交易所代码 ，SSE上交所 SZSE深交所\n",
    "\n",
    "**输出参数**\n",
    "\n",
    ">- 名称\t类型\t默认显示\t描述\n",
    ">- ts_code\tstr\tY\t股票代码\n",
    ">- exchange\tstr\tY\t交易所代码 ，SSE上交所 SZSE深交所\n",
    ">- chairman\tstr\tY\t法人代表\n",
    ">- manager\tstr\tY\t总经理\n",
    ">- secretary\tstr\tY\t董秘\n",
    ">- reg_capital\tfloat\tY\t注册资本\n",
    ">- setup_date\tstr\tY\t注册日期\n",
    ">- province\tstr\tY\t所在省份\n",
    ">- city\tstr\tY\t所在城市\n",
    ">- introduction\tstr\tN\t公司介绍\n",
    ">- website\tstr\tY\t公司主页\n",
    ">- email\tstr\tY\t电子邮件\n",
    ">- office\tstr\tN\t办公室\n",
    ">- employees\tint\tY\t员工人数\n",
    ">- main_business\tstr\tN\t主要业务及产品\n",
    ">- business_scope\tstr\tN\t经营范围"
   ]
  },
  {
   "cell_type": "code",
   "execution_count": null,
   "metadata": {},
   "outputs": [],
   "source": [
    "qlist = [('SSE','data/stock_company_sse.csv'),('SZSE','data/stock_company_szse.csv')]\n",
    "for q in qlist:\n",
    "    data = pro.stock_company(exchange=q[0], \n",
    "            fields='ts_code,exchange,chairman,manager,secretary,reg_capital,setup_date,province,city,introduction,website,email,office,employees,main_business,business_scope')\n",
    "    data.to_csv(q[1], index=False)"
   ]
  },
  {
   "cell_type": "markdown",
   "metadata": {},
   "source": [
    "## IPO新股列表\n",
    ">* 接口：new_share\n",
    ">* 描述：获取新股上市列表数据\n",
    ">* 限量：单次最大2000条，总量不限制\n",
    "\n",
    "**输入参数**\n",
    "\n",
    ">- 名称\t类型\t必选\t描述\n",
    ">- start_date\tstr\tN\t上网发行开始日期\n",
    ">- end_date\tstr\tN\t上网发行结束日期\n",
    "\n",
    "**输出参数**\n",
    "\n",
    ">- 名称\t类型\t默认显示\t描述\n",
    ">- ts_code\tstr\tY\tTS股票代码\n",
    ">- sub_code\tstr\tY\t申购代码\n",
    ">- name\tstr\tY\t名称\n",
    ">- ipo_date\tstr\tY\t上网发行日期\n",
    ">- issue_date\tstr\tY\t上市日期\n",
    ">- amount\tfloat\tY\t发行总量（万股）\n",
    ">- market_amount\tfloat\tY\t上网发行总量（万股）\n",
    ">- price\tfloat\tY\t发行价格\n",
    ">- pe\tfloat\tY\t市盈率\n",
    ">- limit_amount\tfloat\tY\t个人申购上限（万股）\n",
    ">- funds\tfloat\tY\t募集资金（亿元）\n",
    ">- ballot\tfloat\tY\t中签率"
   ]
  },
  {
   "cell_type": "code",
   "execution_count": null,
   "metadata": {},
   "outputs": [],
   "source": [
    "data = pro.new_share(start_date='20180101', end_date='20200731')\n",
    "data.to_csv('data/new_share.csv', index=False)"
   ]
  },
  {
   "cell_type": "markdown",
   "metadata": {},
   "source": [
    "## 日线行情\n",
    ">* 接口：daily\n",
    ">* 数据说明：交易日每天15点～16点之间。本接口是未复权行情，停牌期间不提供数据。\n",
    ">* 调取说明：基础积分每分钟内最多调取500次，每次5000条数据，相当于23年历史，用户获得超过5000积分正常调取无频次限制。\n",
    ">* 描述：获取股票行情数据，或通过通用行情接口获取数据，包含了前后复权数据。\n",
    "\n",
    "**输入参数**\n",
    "\n",
    ">- 名称\t类型\t必选\t描述\n",
    ">- ts_code\tstr\tN\t股票代码（支持多个股票同时提取，逗号分隔）\n",
    ">- trade_date\tstr\tN\t交易日期（YYYYMMDD）\n",
    ">- start_date\tstr\tN\t开始日期(YYYYMMDD)\n",
    ">- end_date\tstr\tN\t结束日期(YYYYMMDD)\n",
    ">- 注：日期都填YYYYMMDD格式，比如20181010\n",
    "\n",
    "**输出参数**\n",
    "\n",
    ">- 名称\t类型\t描述\n",
    ">- ts_code\tstr\t股票代码\n",
    ">- trade_date\tstr\t交易日期\n",
    ">- open\tfloat\t开盘价\n",
    ">- high\tfloat\t最高价\n",
    ">- low\tfloat\t最低价\n",
    ">- close\tfloat\t收盘价\n",
    ">- pre_close\tfloat\t昨收价\n",
    ">- change\tfloat\t涨跌额\n",
    ">- pct_chg\tfloat\t涨跌幅 （未复权，如果是复权请用 通用行情接口 ）\n",
    ">- vol\tfloat\t成交量 （手）\n",
    ">- amount\tfloat\t成交额 （千元）"
   ]
  },
  {
   "cell_type": "code",
   "execution_count": null,
   "metadata": {},
   "outputs": [],
   "source": [
    "# 取多个股票\n",
    "slist = ['600358.SH','002123.SZ','600068.SH','002185.SZ']\n",
    "for s in slist:\n",
    "    data = pro.query('daily', ts_code=s, start_date='19900101', end_date='20200721')\n",
    "    data.to_csv('data/daily-%s.csv' % s, index=False)\n",
    "\n",
    "# 通过日期取历史某一天的全部历史\n",
    "#data = pro.query('daily', trade_date='20200721')"
   ]
  },
  {
   "cell_type": "code",
   "execution_count": null,
   "metadata": {},
   "outputs": [],
   "source": [
    "#获取股票1分钟数据\n",
    "ts.pro_bar(ts_code='600000.SH',\n",
    "                    freq='1min', \n",
    "                    start_date='2020-01-07 09:00:00', \n",
    "                    end_date='2020-01-08 17:00:00')"
   ]
  },
  {
   "cell_type": "code",
   "execution_count": null,
   "metadata": {},
   "outputs": [],
   "source": []
  }
 ],
 "metadata": {
  "kernelspec": {
   "display_name": "Python 3",
   "language": "python",
   "name": "python3"
  },
  "language_info": {
   "codemirror_mode": {
    "name": "ipython",
    "version": 3
   },
   "file_extension": ".py",
   "mimetype": "text/x-python",
   "name": "python",
   "nbconvert_exporter": "python",
   "pygments_lexer": "ipython3",
   "version": "3.8.5"
  }
 },
 "nbformat": 4,
 "nbformat_minor": 4
}
