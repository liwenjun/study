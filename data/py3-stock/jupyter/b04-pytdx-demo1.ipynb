{
 "cells": [
  {
   "cell_type": "markdown",
   "metadata": {},
   "source": [
    "## 基于pytdx获取股票数据"
   ]
  },
  {
   "cell_type": "code",
   "execution_count": null,
   "metadata": {},
   "outputs": [],
   "source": [
    "import numpy as np\n",
    "import pandas as pd\n",
    "import matplotlib.pyplot as plt\n",
    "\n",
    "from pytdx.hq import TdxHq_API\n",
    "from pytdx.params import TDXParams\n",
    "api = TdxHq_API()\n",
    "api.connect('47.103.48.45', 7709)"
   ]
  },
  {
   "cell_type": "code",
   "execution_count": null,
   "metadata": {},
   "outputs": [],
   "source": [
    "# 获取股票清单\n",
    "def get_stock_list(api):\n",
    "    cnt_sz = api.get_security_count(TDXParams.MARKET_SZ)\n",
    "    cnt_sh = api.get_security_count(TDXParams.MARKET_SH)\n",
    "    result = []\n",
    "    for x in range(0, cnt_sz, 1000):\n",
    "        result = result + api.get_security_list(TDXParams.MARKET_SZ, x)\n",
    "    for x in range(0, cnt_sh, 1000):\n",
    "        result = result + api.get_security_list(TDXParams.MARKET_SH, x)\n",
    "    return result"
   ]
  },
  {
   "cell_type": "code",
   "execution_count": null,
   "metadata": {},
   "outputs": [],
   "source": [
    "api.to_df(get_stock_list(api)).to_csv(\"data/list.csv\")"
   ]
  },
  {
   "cell_type": "code",
   "execution_count": null,
   "metadata": {},
   "outputs": [],
   "source": [
    "a = api.get_security_list(TDXParams.MARKET_SZ, 10881)[0]\n",
    "type(a)"
   ]
  },
  {
   "cell_type": "code",
   "execution_count": null,
   "metadata": {},
   "outputs": [],
   "source": []
  },
  {
   "cell_type": "code",
   "execution_count": null,
   "metadata": {},
   "outputs": [],
   "source": [
    "# 获取股票行情\n",
    "# 需要传入一个列表，每个列表由一个市场代码， 一个股票代码构成的元祖构成 [ (市场代码1， 股票代码1)，(市场代码2， 股票代码2) ... (市场代码n， 股票代码n) ]\n",
    "# 注意点：非股票品种代码，有些获取的价格不是实际价格，比如可转债获取价格为实际价格*10。这是可能是TDX为了防止浮点数错误，报价在传输和存储时实际都保存为整数，然后根据品种进行处理的结果。\n",
    "api.connect('47.103.48.45', 7709)\n",
    "api.get_security_quotes([(0, '000961'), (0, '002123')])"
   ]
  },
  {
   "cell_type": "code",
   "execution_count": null,
   "metadata": {},
   "outputs": [],
   "source": [
    "# 获取k线\n",
    "# category-> K线种类\n",
    "# 0 5分钟K线 1 15分钟K线 2 30分钟K线 3 1小时K线 4 日K线\n",
    "# 5 周K线 6 月K线 7 1分钟 8 1分钟K线 9 日K线 10 季K线 11 年K线\n",
    "# market -> 市场代码 0:深圳，1:上海\n",
    "# stockcode -> 证券代码;\n",
    "# start -> 指定的范围开始位置;\n",
    "# count -> 用户要请求的 K 线数目，最大值为 800\n",
    "api.connect('47.103.48.45', 7709)\n",
    "df = api.to_df(api.get_security_bars(7,0, '000961',110, 801))\n",
    "df"
   ]
  },
  {
   "cell_type": "code",
   "execution_count": null,
   "metadata": {},
   "outputs": [],
   "source": [
    "api.connect('47.103.48.45', 7709)\n",
    "df = api.to_df(api.get_security_bars(8,0, '000961',0, 10))\n",
    "df"
   ]
  },
  {
   "cell_type": "code",
   "execution_count": null,
   "metadata": {},
   "outputs": [],
   "source": [
    "plt.figure();\n",
    "df.plot()"
   ]
  },
  {
   "cell_type": "code",
   "execution_count": null,
   "metadata": {},
   "outputs": [],
   "source": []
  },
  {
   "cell_type": "code",
   "execution_count": null,
   "metadata": {},
   "outputs": [],
   "source": [
    "# 获取k线  5分钟K线\n",
    "api.connect('47.103.48.45', 7709)\n",
    "dict(api.get_security_bars(0, TDXParams.MARKET_SZ, '002123', 0, 10)[0])"
   ]
  },
  {
   "cell_type": "code",
   "execution_count": null,
   "metadata": {},
   "outputs": [],
   "source": [
    "# 获取k线  15分钟K线\n",
    "api.connect('47.103.48.45', 7709)\n",
    "api.to_df(api.get_security_bars(1, TDXParams.MARKET_SZ, '002123', 0, 10))"
   ]
  },
  {
   "cell_type": "code",
   "execution_count": null,
   "metadata": {},
   "outputs": [],
   "source": [
    "#获取股票列表\n",
    "# 参数：市场代码, 起始位置 如： 0,0 或 1,100\n",
    "api.to_df(api.get_security_list(0, 600))"
   ]
  },
  {
   "cell_type": "code",
   "execution_count": null,
   "metadata": {},
   "outputs": [],
   "source": [
    "# 查询分时行情\n",
    "# 参数：市场代码， 股票代码， 如： 0,000001 或 1,600300\n",
    "api.connect('47.103.48.45', 7709)\n",
    "api.to_df(api.get_minute_time_data(0, '000961'))"
   ]
  },
  {
   "cell_type": "code",
   "execution_count": null,
   "metadata": {},
   "outputs": [],
   "source": [
    "# 查询历史分时行情\n",
    "# 参数：市场代码， 股票代码，时间 如： 0,000001,20161209 或 1,600300,20161209\n",
    "# 注意，在引入 TDXParams 之后， （from pytdx.params import TDXParams） 我们可以使用 TDXParams.MARKET_SH , TDXParams.MARKET_SZ 常量来代替 1 和 0 作为参数\n",
    "api.connect('47.103.48.45', 7709)\n",
    "api.to_df(api.get_history_minute_time_data(TDXParams.MARKET_SZ, '000961', 20200916))"
   ]
  },
  {
   "cell_type": "code",
   "execution_count": null,
   "metadata": {},
   "outputs": [],
   "source": [
    "#查询分笔成交\n",
    "#参数：市场代码， 股票代码，起始位置， 数量 如： 0,000001,0,10\n",
    "api.connect('47.103.48.45', 7709)\n",
    "api.to_df(api.get_transaction_data(TDXParams.MARKET_SZ, '000961', 0, 10000))\n",
    "#api.to_df(api.get_transaction_data(TDXParams.MARKET_SZ, '000961', 2500, 10000))"
   ]
  },
  {
   "cell_type": "code",
   "execution_count": null,
   "metadata": {},
   "outputs": [],
   "source": [
    "#查询历史分笔成交\n",
    "#参数：市场代码， 股票代码，起始位置，日期 数量 如： 0,000001,0,10,20170209\n",
    "# 最大返回2000行\n",
    "api.connect('47.103.48.45', 7709)\n",
    "api.to_df(api.get_history_transaction_data(TDXParams.MARKET_SZ, '000961', 0, 10000, 20200914))#.to_csv(\"data/01.csv\")"
   ]
  },
  {
   "cell_type": "code",
   "execution_count": null,
   "metadata": {},
   "outputs": [],
   "source": [
    "api.get_finance_info(0, '000001')"
   ]
  },
  {
   "cell_type": "code",
   "execution_count": null,
   "metadata": {},
   "outputs": [],
   "source": [
    "api.get_k_data('000001','2017-07-03','2017-07-10')"
   ]
  },
  {
   "cell_type": "code",
   "execution_count": null,
   "metadata": {},
   "outputs": [],
   "source": [
    "api.to_df(api.get_company_info_category(1, '000001'))"
   ]
  },
  {
   "cell_type": "code",
   "execution_count": null,
   "metadata": {},
   "outputs": [],
   "source": [
    "api.get_security_count(1)"
   ]
  },
  {
   "cell_type": "code",
   "execution_count": null,
   "metadata": {},
   "outputs": [],
   "source": [
    "api.to_df(api.get_security_list(1, 1000))"
   ]
  },
  {
   "cell_type": "code",
   "execution_count": null,
   "metadata": {},
   "outputs": [],
   "source": []
  }
 ],
 "metadata": {
  "kernelspec": {
   "display_name": "Python 3",
   "language": "python",
   "name": "python3"
  },
  "language_info": {
   "codemirror_mode": {
    "name": "ipython",
    "version": 3
   },
   "file_extension": ".py",
   "mimetype": "text/x-python",
   "name": "python",
   "nbconvert_exporter": "python",
   "pygments_lexer": "ipython3",
   "version": "3.8.5"
  }
 },
 "nbformat": 4,
 "nbformat_minor": 4
}
