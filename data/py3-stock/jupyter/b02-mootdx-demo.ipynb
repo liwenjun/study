{
 "cells": [
  {
   "cell_type": "markdown",
   "metadata": {},
   "source": [
    "## mootdx 代码范例"
   ]
  },
  {
   "cell_type": "code",
   "execution_count": null,
   "metadata": {},
   "outputs": [],
   "source": [
    "# 行情接口说明\n",
    "# 参数说明:\n",
    "# market: 对应市场。 (std 标准股票市场，ext 扩展市场)\n",
    "from mootdx.quotes import Quotes\n",
    "client = Quotes.factory(market='std', multithread=True, heartbeat=True)"
   ]
  },
  {
   "cell_type": "code",
   "execution_count": null,
   "metadata": {},
   "outputs": [],
   "source": [
    "# 查询实时行情\n",
    "# 可以获取多只股票的行情信息\n",
    "# 参数说明:\n",
    "# symbol: 多个股票号码。 [\"000001\", \"600300\"] 格式\n",
    "# 返回值：\n",
    "# Quotes{}\n",
    "from mootdx.quotes import Quotes\n",
    "client = Quotes.factory(market='std', multithread=True, heartbeat=True)\n",
    "client.quotes(symbol=[\"000001\", \"600300\"])"
   ]
  },
  {
   "cell_type": "code",
   "execution_count": null,
   "metadata": {},
   "outputs": [],
   "source": [
    "client.bars(symbol='600036', frequency=9, offset=10)"
   ]
  },
  {
   "cell_type": "code",
   "execution_count": null,
   "metadata": {},
   "outputs": [],
   "source": [
    "\"t03\".strip(\"t\")"
   ]
  },
  {
   "cell_type": "code",
   "execution_count": null,
   "metadata": {},
   "outputs": [],
   "source": [
    "\n",
    "# 将一个list尽量均分，前面可以分n个时则每份为n个，直到分不下为止，不限制len(list)\n",
    "def EveryStrandIsN(listTemp, n):\n",
    "    for i in range(0, len(listTemp), n):\n",
    "        yield listTemp[i:i + n]\n",
    "\n",
    "# 将一个list尽量均分成n份，限制len(list)==n，份数大于原list内元素个数则分配空list[]\n",
    "def divideIntoNstrand(listTemp, n):\n",
    "    twoList = [ [] for i in range(n)]\n",
    "    for i,e in enumerate(listTemp):\n",
    "        twoList[i%n].append(e)\n",
    "    return twoList\n"
   ]
  },
  {
   "cell_type": "code",
   "execution_count": null,
   "metadata": {},
   "outputs": [],
   "source": [
    "listTemp = [1,2,3,4,5,6,7,8,9]\n",
    "n = 4\n",
    "temp = EveryStrandIsN(listTemp, n)\n",
    "temp1 = divideIntoNstrand(listTemp, n)\n",
    "print(\"前面保证每份{}个\".format(n))\n",
    "for i in temp:\n",
    "    print(i)\n",
    "print(\"保证{}份\".format(n))\n",
    "for i in temp1:\n",
    "    print(i)\n"
   ]
  },
  {
   "cell_type": "code",
   "execution_count": null,
   "metadata": {},
   "outputs": [],
   "source": [
    "import time\n",
    "from datetime import date, datetime, timedelta\n",
    "\n",
    "def clock_to_hour(c, tz: int = 0) -> int:\n",
    "    \"\"\"utc时区偏移值\n",
    "    \"\"\"\n",
    "    if int(c) == 0:\n",
    "        return 0\n",
    "    else:\n",
    "        return int(datetime.fromtimestamp(int(c + tz * 3600)).strftime(\"%H\"))"
   ]
  },
  {
   "cell_type": "code",
   "execution_count": null,
   "metadata": {},
   "outputs": [],
   "source": [
    "clock_to_hour(1599408000, 8)"
   ]
  },
  {
   "cell_type": "code",
   "execution_count": null,
   "metadata": {},
   "outputs": [],
   "source": [
    "from datetime import date, datetime\n",
    "datetime.now().strftime(\"%Y年%m月%d日%H时%M分%S秒\")"
   ]
  },
  {
   "cell_type": "code",
   "execution_count": null,
   "metadata": {},
   "outputs": [],
   "source": []
  }
 ],
 "metadata": {
  "kernelspec": {
   "display_name": "Python 3",
   "language": "python",
   "name": "python3"
  },
  "language_info": {
   "codemirror_mode": {
    "name": "ipython",
    "version": 3
   },
   "file_extension": ".py",
   "mimetype": "text/x-python",
   "name": "python",
   "nbconvert_exporter": "python",
   "pygments_lexer": "ipython3",
   "version": "3.8.5"
  }
 },
 "nbformat": 4,
 "nbformat_minor": 4
}
