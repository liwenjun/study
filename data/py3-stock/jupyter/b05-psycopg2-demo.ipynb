{
 "cells": [
  {
   "cell_type": "code",
   "execution_count": null,
   "metadata": {},
   "outputs": [],
   "source": [
    "import psycopg2\n",
    "from stock_utils import helper, dbhelper\n",
    "\n",
    "db = psycopg2.connect(\"postgres://lee@localhost/stock_db\")"
   ]
  },
  {
   "cell_type": "code",
   "execution_count": null,
   "metadata": {},
   "outputs": [],
   "source": [
    "def getValue(db, sql: str, *args):\n",
    "    \"\"\"返回一个值\n",
    "    \"\"\"\n",
    "    c = db.cursor()\n",
    "    try:\n",
    "        c.execute(sql, args)\n",
    "        return c.fetchone()\n",
    "    except:\n",
    "        db.rollback()\n",
    "        logger.warn(\"getValue => 错误%s\" % lasterror())\n",
    "        return None"
   ]
  },
  {
   "cell_type": "code",
   "execution_count": null,
   "metadata": {},
   "outputs": [],
   "source": [
    "sql = \"SELECT max(datetime) FROM kdata_min WHERE code='%s'\" % \"000011\"\n",
    "val = getValue(db, sql)\n",
    "val[0].strftime(\"%Y-%m-%d %H:%M\")"
   ]
  },
  {
   "cell_type": "code",
   "execution_count": null,
   "metadata": {},
   "outputs": [],
   "source": [
    "dbhelper.select_into_dict(db, \"SELECT * FROM kdata_min WHERE code='000001'\")"
   ]
  },
  {
   "cell_type": "code",
   "execution_count": null,
   "metadata": {},
   "outputs": [],
   "source": [
    "'2020-09-16 10:37' > ''"
   ]
  },
  {
   "cell_type": "code",
   "execution_count": null,
   "metadata": {},
   "outputs": [],
   "source": [
    "dbhelper.getValue(db, sql)"
   ]
  },
  {
   "cell_type": "code",
   "execution_count": null,
   "metadata": {},
   "outputs": [],
   "source": [
    "import sys\n",
    "max = sys.maxsize\n",
    "print (max)"
   ]
  },
  {
   "cell_type": "code",
   "execution_count": null,
   "metadata": {},
   "outputs": [],
   "source": [
    "from datetime import datetime, time, date\n",
    "datetime.combine(date.today(), time.fromisoformat(\"13:01\"))"
   ]
  },
  {
   "cell_type": "code",
   "execution_count": null,
   "metadata": {},
   "outputs": [],
   "source": []
  }
 ],
 "metadata": {
  "kernelspec": {
   "display_name": "Python 3",
   "language": "python",
   "name": "python3"
  },
  "language_info": {
   "codemirror_mode": {
    "name": "ipython",
    "version": 3
   },
   "file_extension": ".py",
   "mimetype": "text/x-python",
   "name": "python",
   "nbconvert_exporter": "python",
   "pygments_lexer": "ipython3",
   "version": "3.8.5"
  }
 },
 "nbformat": 4,
 "nbformat_minor": 4
}
