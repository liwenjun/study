{
 "cells": [
  {
   "cell_type": "markdown",
   "metadata": {},
   "source": [
    "## 解析光大证券软件下载的离线数据"
   ]
  },
  {
   "cell_type": "code",
   "execution_count": null,
   "metadata": {},
   "outputs": [],
   "source": [
    "import numpy as np\n",
    "import pandas as pd"
   ]
  },
  {
   "cell_type": "code",
   "execution_count": null,
   "metadata": {},
   "outputs": [],
   "source": [
    "def 读取日线数据(文件路径):\n",
    "    dt = np.dtype([\n",
    "        ('Date', 'u4'),\n",
    "        ('Open', 'u4'),\n",
    "        ('High', 'u4'),\n",
    "        ('Low', 'u4'),\n",
    "        ('Close', 'u4'),\n",
    "        ('Amount', 'f'),\n",
    "        ('Volume', 'u4'),\n",
    "        ('Reserve','u4')])\n",
    "    data = np.fromfile(文件路径, dtype=dt)\n",
    "    #df = pd.DataFrame(data)\n",
    "    # Or if you want to explicitly set the column names\n",
    "    df = pd.DataFrame(data, columns=data.dtype.names)\n",
    "    df.eval('''\n",
    "        year=floor(Date/10000)\n",
    "        month=floor((Date%10000)/100)\n",
    "        day=floor(Date%10000%100)\n",
    "        Open=Open/100\n",
    "        High=High/100\n",
    "        Low=Low/100\n",
    "        Close=Close/100\n",
    "    ''',inplace=True)\n",
    "    df.index=pd.to_datetime(df.loc[:,['year','month','day']])\n",
    "    return df.drop(['Date','year','month','day'],1)\n",
    "def 读取分钟数据(文件路径):\n",
    "    '''\n",
    "    year=floor(m_date/2048)+2004; %提取年信息\n",
    "    mon=floor(mod(m_date,2048)/100); %提取月信息\n",
    "    day=mod(mod(m_date,2048),100); %提取日信息*/\n",
    "    m_time/60 输出小时\n",
    "    m_time%60 输出分钟\n",
    "    '''\n",
    "    dt = np.dtype([\n",
    "        ('m_date', 'u2'),\n",
    "        ('m_time', 'u2'),\n",
    "        ('open', 'f4'),\n",
    "        ('high', 'f4'),\n",
    "        ('low', 'f4'),\n",
    "        ('close', 'f4'),\n",
    "        ('amount', 'f4'),\n",
    "        ('volume', 'u4'),\n",
    "        ('reserve','u4')])\n",
    "    data = np.fromfile(文件路径, dtype=dt)\n",
    "    #df = pd.DataFrame(data)\n",
    "    # Or if you want to explicitly set the column names\n",
    "    df = pd.DataFrame(data, columns=data.dtype.names)\n",
    "    df.eval('''\n",
    "        year=floor(m_date/2048)+2004\n",
    "        month=floor((m_date%2048)/100)\n",
    "        day=floor(m_date%2048%100)\n",
    "        hour = floor(m_time/60)\n",
    "        minute = m_time%60\n",
    "    ''',inplace=True)\n",
    "    df.index=pd.to_datetime(df.loc[:,['year','month','day','hour','minute']])\n",
    "    return df.drop(['m_date','m_time','year','month','day','hour','minute'],1)\n",
    "日线文件路径 = r'data/sh600068.day'\n",
    "五分文件路径 = r'E:\\zd_gdzq\\vipdoc\\sh\\fzline\\sh600025.lc5'\n",
    "一分文件路径 = r'data/sz002123.lc1'\n",
    "日线数据 = 读取日线数据(日线文件路径)\n",
    "#五分数据 = 读取分钟数据(五分文件路径)\n",
    "一分数据 = 读取分钟数据(一分文件路径)\n",
    "print(日线数据.tail(10))\n",
    "#print(五分数据.tail(10))\n",
    "print(一分数据.tail(10))\n",
    "print(一分数据.head(10))\n",
    "\n",
    "日线数据.to_csv('day.csv')\n",
    "一分数据.to_csv('min.csv')"
   ]
  },
  {
   "cell_type": "markdown",
   "metadata": {},
   "source": [
    "### 通达信日线数据格式\n",
    "```\n",
    "文件名即股票代码\n",
    "每32个字节为一天数据\n",
    "每4个字节为一个字段，每个字段内低字节在前\n",
    "\n",
    "00 ~ 03 字节：年月日, 整型\n",
    "04 ~ 07 字节：开盘价*100， 整型\n",
    "08 ~ 11 字节：最高价*100,  整型\n",
    "12 ~ 15 字节：最低价*100,  整型\n",
    "16 ~ 19 字节：收盘价*100,  整型\n",
    "20 ~ 23 字节：成交额（元），float型\n",
    "24 ~ 27 字节：成交量（股），整型\n",
    "28 ~ 31 字节：上日收盘*100, 整型\n",
    "```"
   ]
  },
  {
   "cell_type": "code",
   "execution_count": null,
   "metadata": {},
   "outputs": [],
   "source": [
    "def 读取日线数据(文件路径):\n",
    "    dt = np.dtype([\n",
    "        ('Date', 'u4'),\n",
    "        ('Open', 'u4'),\n",
    "        ('High', 'u4'),\n",
    "        ('Low', 'u4'),\n",
    "        ('Close', 'u4'),\n",
    "        ('Amount', 'f'),\n",
    "        ('Volume', 'u4'),\n",
    "        ('Reserve','u4')])\n",
    "    data = np.fromfile(文件路径, dtype=dt)\n",
    "    #df = pd.DataFrame(data)\n",
    "    # Or if you want to explicitly set the column names\n",
    "    df = pd.DataFrame(data, columns=data.dtype.names)\n",
    "    df.eval('''\n",
    "        year=floor(Date/10000)\n",
    "        month=floor((Date%10000)/100)\n",
    "        day=floor(Date%10000%100)\n",
    "        Open=Open/100\n",
    "        High=High/100\n",
    "        Low=Low/100\n",
    "        Close=Close/100\n",
    "    ''',inplace=True)\n",
    "    df.index=pd.to_datetime(df.loc[:,['year','month','day']])\n",
    "    return df.drop(['Date','year','month','day'],1)"
   ]
  },
  {
   "cell_type": "markdown",
   "metadata": {},
   "source": [
    "### 通达信5分钟、1分钟数据格式\n",
    "```\n",
    "文件名即股票代码\n",
    "每32个字节为一个5分钟数据，每字段内低字节在前\n",
    "\n",
    "00 ~ 01 字节：日期，整型，设其值为num，则日期计算方法为：\n",
    "              year=floor(num/2048)+2004;\n",
    "              month=floor(mod(num,2048)/100);\n",
    "              day=mod(mod(num,2048),100);\n",
    "02 ~ 03 字节： 从0点开始至目前的分钟数，整型\n",
    "04 ~ 07 字节：开盘价，float型\n",
    "08 ~ 11 字节：最高价，float型\n",
    "12 ~ 15 字节：最低价，float型\n",
    "16 ~ 19 字节：收盘价，float型\n",
    "20 ~ 23 字节：成交额，float型\n",
    "24 ~ 27 字节：成交量（股），整型\n",
    "28 ~ 31 字节：（保留）\n",
    "```"
   ]
  },
  {
   "cell_type": "code",
   "execution_count": null,
   "metadata": {},
   "outputs": [],
   "source": [
    "def 读取分钟数据(文件路径):\n",
    "    '''\n",
    "    year=floor(m_date/2048)+2004; %提取年信息\n",
    "    mon=floor(mod(m_date,2048)/100); %提取月信息\n",
    "    day=mod(mod(m_date,2048),100); %提取日信息*/\n",
    "    m_time/60 输出小时\n",
    "    m_time%60 输出分钟\n",
    "    '''\n",
    "    dt = np.dtype([\n",
    "        ('m_date', 'u2'),\n",
    "        ('m_time', 'u2'),\n",
    "        ('Open', 'f4'),\n",
    "        ('High', 'f4'),\n",
    "        ('Low', 'f4'),\n",
    "        ('Close', 'f4'),\n",
    "        ('Amount', 'f4'),\n",
    "        ('Volume', 'u4'),\n",
    "        ('Reserve','u4')])\n",
    "    data = np.fromfile(文件路径, dtype=dt)\n",
    "    #df = pd.DataFrame(data)\n",
    "    # Or if you want to explicitly set the column names\n",
    "    df = pd.DataFrame(data, columns=data.dtype.names)\n",
    "    df.eval('''\n",
    "        year=floor(m_date/2048)+2004\n",
    "        month=floor((m_date%2048)/100)\n",
    "        day=floor(m_date%2048%100)\n",
    "        hour = floor(m_time/60)\n",
    "        minute = m_time%60\n",
    "    ''',inplace=True)\n",
    "    df.index=pd.to_datetime(df.loc[:,['year','month','day','hour','minute']])\n",
    "    return df.drop(['m_date','m_time','year','month','day','hour','minute'],1)"
   ]
  },
  {
   "cell_type": "code",
   "execution_count": null,
   "metadata": {},
   "outputs": [],
   "source": [
    "from sqlalchemy import create_engine\n",
    "engine = create_engine('postgresql+psycopg2://lee@localhost/dev_db')"
   ]
  },
  {
   "cell_type": "code",
   "execution_count": null,
   "metadata": {},
   "outputs": [],
   "source": [
    "日线数据.to_sql('stock_day', con=engine, if_exists='replace', index_label='day')"
   ]
  },
  {
   "cell_type": "code",
   "execution_count": null,
   "metadata": {},
   "outputs": [],
   "source": [
    "一分数据.to_sql('stock_lc1', con=engine, if_exists='append', index_label='daytime')"
   ]
  },
  {
   "cell_type": "code",
   "execution_count": null,
   "metadata": {},
   "outputs": [],
   "source": []
  }
 ],
 "metadata": {
  "kernelspec": {
   "display_name": "Python 3",
   "language": "python",
   "name": "python3"
  },
  "language_info": {
   "codemirror_mode": {
    "name": "ipython",
    "version": 3
   },
   "file_extension": ".py",
   "mimetype": "text/x-python",
   "name": "python",
   "nbconvert_exporter": "python",
   "pygments_lexer": "ipython3",
   "version": "3.8.5"
  }
 },
 "nbformat": 4,
 "nbformat_minor": 4
}
