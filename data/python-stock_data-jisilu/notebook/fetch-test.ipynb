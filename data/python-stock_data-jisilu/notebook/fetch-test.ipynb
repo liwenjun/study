{
 "cells": [
  {
   "cell_type": "code",
   "execution_count": 1,
   "id": "93dfd14a-ebfd-4424-a339-a1aa7918b108",
   "metadata": {},
   "outputs": [],
   "source": [
    "from data_fetch import (get_etf,get_etf_gold,get_etf_detail,\n",
    "    get_lof_i,get_lof_s,get_lof_detail,\n",
    "    get_qdii_e,get_qdii_c,get_qdii_a,get_qdii_detail)\n",
    "from multiprocessing.pool import Pool\n",
    "from tqdm import tqdm"
   ]
  },
  {
   "cell_type": "code",
   "execution_count": null,
   "id": "5640bbad-a9dc-4109-90b5-9e8aa07f81c4",
   "metadata": {},
   "outputs": [],
   "source": [
    "(ids, data) = get_etf_gold()\n",
    "data[:2], ids[:10]"
   ]
  },
  {
   "cell_type": "code",
   "execution_count": 2,
   "id": "cdc5fb88-4881-4083-b0db-36565bcb9a93",
   "metadata": {
    "scrolled": true
   },
   "outputs": [
    {
     "data": {
      "text/plain": [
       "([{'fund_nav': '0.8122',\n",
       "   'index_nm': '中国A50互联互通',\n",
       "   'amount': 484879,\n",
       "   'index_increase_rt': '-0.07',\n",
       "   'issuer_nm': '华夏基金',\n",
       "   'fund_nm': 'A50',\n",
       "   'fund_id': '159601',\n",
       "   'nav_dt': '2023-08-08',\n",
       "   'volume': '403.34',\n",
       "   'unit_total': '39.32',\n",
       "   'price': '0.811'},\n",
       "  {'fund_nav': '0.8106',\n",
       "   'index_nm': '中国A50互联互通',\n",
       "   'amount': 196054,\n",
       "   'index_increase_rt': '-0.07',\n",
       "   'issuer_nm': '南方基金',\n",
       "   'fund_nm': '中国A50',\n",
       "   'fund_id': '159602',\n",
       "   'nav_dt': '2023-08-08',\n",
       "   'volume': '379.67',\n",
       "   'unit_total': '15.88',\n",
       "   'price': '0.810'}],\n",
       " ['159601',\n",
       "  '159602',\n",
       "  '159603',\n",
       "  '159606',\n",
       "  '159608',\n",
       "  '159609',\n",
       "  '159610',\n",
       "  '159611',\n",
       "  '159613',\n",
       "  '159616'])"
      ]
     },
     "execution_count": 2,
     "metadata": {},
     "output_type": "execute_result"
    }
   ],
   "source": [
    "(ids, data) = get_etf()\n",
    "data[:2], ids[:10]"
   ]
  },
  {
   "cell_type": "code",
   "execution_count": null,
   "id": "832d710b-8443-4c3b-86d4-153e6d209c35",
   "metadata": {},
   "outputs": [],
   "source": [
    "get_etf_detail('588080')[:5]"
   ]
  },
  {
   "cell_type": "code",
   "execution_count": null,
   "id": "03d79809-c570-4313-bb24-ab37d0625b64",
   "metadata": {},
   "outputs": [],
   "source": [
    "(ids, data) = get_qdii_e()\n",
    "data[:2], ids[:10]"
   ]
  },
  {
   "cell_type": "code",
   "execution_count": null,
   "id": "fd13aa9a-927e-48be-a650-e75ebfda9a87",
   "metadata": {},
   "outputs": [],
   "source": [
    "get_qdii_detail('513030')[:2]"
   ]
  },
  {
   "cell_type": "code",
   "execution_count": null,
   "id": "0597dc4e-dbb0-4aa3-8a5d-6af74065fb6b",
   "metadata": {},
   "outputs": [],
   "source": [
    "(ids, data) = get_lof_s()\n",
    "data[:2], ids[:10]"
   ]
  },
  {
   "cell_type": "code",
   "execution_count": null,
   "id": "9efedf20-c2ce-4200-a2f4-beddb3a18295",
   "metadata": {},
   "outputs": [],
   "source": [
    "(ids, data) = get_lof_i()\n",
    "data[:2], ids[:10]"
   ]
  },
  {
   "cell_type": "code",
   "execution_count": null,
   "id": "93b650f9-9b62-4cd9-adc3-09bd2f2e578f",
   "metadata": {},
   "outputs": [],
   "source": [
    "get_lof_detail('160119')[:2]"
   ]
  },
  {
   "cell_type": "code",
   "execution_count": 3,
   "id": "703d95de-f896-4c8d-bf08-110e8512e388",
   "metadata": {},
   "outputs": [
    {
     "name": "stderr",
     "output_type": "stream",
     "text": [
      "抓取etf数据: 100%|███████████████████████████████████████████████████████████████| 651/651 [00:00<00:00, 216981.24it/s]\n"
     ]
    },
    {
     "ename": "PicklingError",
     "evalue": "Can't pickle <function <lambda> at 0x00000294D8A99EE0>: attribute lookup <lambda> on __main__ failed",
     "output_type": "error",
     "traceback": [
      "\u001b[1;31m---------------------------------------------------------------------------\u001b[0m",
      "\u001b[1;31mPicklingError\u001b[0m                             Traceback (most recent call last)",
      "Cell \u001b[1;32mIn[3], line 2\u001b[0m\n\u001b[0;32m      1\u001b[0m p \u001b[38;5;241m=\u001b[39m Pool(processes\u001b[38;5;241m=\u001b[39m\u001b[38;5;241m6\u001b[39m)\n\u001b[1;32m----> 2\u001b[0m dat \u001b[38;5;241m=\u001b[39m \u001b[43mp\u001b[49m\u001b[38;5;241;43m.\u001b[39;49m\u001b[43mmap\u001b[49m\u001b[43m(\u001b[49m\u001b[38;5;28;43;01mlambda\u001b[39;49;00m\u001b[43m \u001b[49m\u001b[43mx\u001b[49m\u001b[43m:\u001b[49m\u001b[43m \u001b[49m\u001b[43mget_etf_detail\u001b[49m\u001b[43m(\u001b[49m\u001b[43mx\u001b[49m\u001b[43m)\u001b[49m\u001b[43m,\u001b[49m\u001b[43mtqdm\u001b[49m\u001b[43m(\u001b[49m\u001b[43mids\u001b[49m\u001b[43m,\u001b[49m\u001b[43m \u001b[49m\u001b[43mdesc\u001b[49m\u001b[38;5;241;43m=\u001b[39;49m\u001b[38;5;124;43m\"\u001b[39;49m\u001b[38;5;124;43m抓取etf数据\u001b[39;49m\u001b[38;5;124;43m\"\u001b[39;49m\u001b[43m)\u001b[49m\u001b[43m)\u001b[49m\n\u001b[0;32m      3\u001b[0m p\u001b[38;5;241m.\u001b[39mclose()\n\u001b[0;32m      4\u001b[0m p\u001b[38;5;241m.\u001b[39mjoin()\n",
      "File \u001b[1;32m~\\scoop\\apps\\python\\current\\Lib\\multiprocessing\\pool.py:367\u001b[0m, in \u001b[0;36mPool.map\u001b[1;34m(self, func, iterable, chunksize)\u001b[0m\n\u001b[0;32m    362\u001b[0m \u001b[38;5;28;01mdef\u001b[39;00m \u001b[38;5;21mmap\u001b[39m(\u001b[38;5;28mself\u001b[39m, func, iterable, chunksize\u001b[38;5;241m=\u001b[39m\u001b[38;5;28;01mNone\u001b[39;00m):\n\u001b[0;32m    363\u001b[0m \u001b[38;5;250m    \u001b[39m\u001b[38;5;124;03m'''\u001b[39;00m\n\u001b[0;32m    364\u001b[0m \u001b[38;5;124;03m    Apply `func` to each element in `iterable`, collecting the results\u001b[39;00m\n\u001b[0;32m    365\u001b[0m \u001b[38;5;124;03m    in a list that is returned.\u001b[39;00m\n\u001b[0;32m    366\u001b[0m \u001b[38;5;124;03m    '''\u001b[39;00m\n\u001b[1;32m--> 367\u001b[0m     \u001b[38;5;28;01mreturn\u001b[39;00m \u001b[38;5;28;43mself\u001b[39;49m\u001b[38;5;241;43m.\u001b[39;49m\u001b[43m_map_async\u001b[49m\u001b[43m(\u001b[49m\u001b[43mfunc\u001b[49m\u001b[43m,\u001b[49m\u001b[43m \u001b[49m\u001b[43miterable\u001b[49m\u001b[43m,\u001b[49m\u001b[43m \u001b[49m\u001b[43mmapstar\u001b[49m\u001b[43m,\u001b[49m\u001b[43m \u001b[49m\u001b[43mchunksize\u001b[49m\u001b[43m)\u001b[49m\u001b[38;5;241;43m.\u001b[39;49m\u001b[43mget\u001b[49m\u001b[43m(\u001b[49m\u001b[43m)\u001b[49m\n",
      "File \u001b[1;32m~\\scoop\\apps\\python\\current\\Lib\\multiprocessing\\pool.py:774\u001b[0m, in \u001b[0;36mApplyResult.get\u001b[1;34m(self, timeout)\u001b[0m\n\u001b[0;32m    772\u001b[0m     \u001b[38;5;28;01mreturn\u001b[39;00m \u001b[38;5;28mself\u001b[39m\u001b[38;5;241m.\u001b[39m_value\n\u001b[0;32m    773\u001b[0m \u001b[38;5;28;01melse\u001b[39;00m:\n\u001b[1;32m--> 774\u001b[0m     \u001b[38;5;28;01mraise\u001b[39;00m \u001b[38;5;28mself\u001b[39m\u001b[38;5;241m.\u001b[39m_value\n",
      "File \u001b[1;32m~\\scoop\\apps\\python\\current\\Lib\\multiprocessing\\pool.py:540\u001b[0m, in \u001b[0;36mPool._handle_tasks\u001b[1;34m(taskqueue, put, outqueue, pool, cache)\u001b[0m\n\u001b[0;32m    538\u001b[0m     \u001b[38;5;28;01mbreak\u001b[39;00m\n\u001b[0;32m    539\u001b[0m \u001b[38;5;28;01mtry\u001b[39;00m:\n\u001b[1;32m--> 540\u001b[0m     \u001b[43mput\u001b[49m\u001b[43m(\u001b[49m\u001b[43mtask\u001b[49m\u001b[43m)\u001b[49m\n\u001b[0;32m    541\u001b[0m \u001b[38;5;28;01mexcept\u001b[39;00m \u001b[38;5;167;01mException\u001b[39;00m \u001b[38;5;28;01mas\u001b[39;00m e:\n\u001b[0;32m    542\u001b[0m     job, idx \u001b[38;5;241m=\u001b[39m task[:\u001b[38;5;241m2\u001b[39m]\n",
      "File \u001b[1;32m~\\scoop\\apps\\python\\current\\Lib\\multiprocessing\\connection.py:205\u001b[0m, in \u001b[0;36m_ConnectionBase.send\u001b[1;34m(self, obj)\u001b[0m\n\u001b[0;32m    203\u001b[0m \u001b[38;5;28mself\u001b[39m\u001b[38;5;241m.\u001b[39m_check_closed()\n\u001b[0;32m    204\u001b[0m \u001b[38;5;28mself\u001b[39m\u001b[38;5;241m.\u001b[39m_check_writable()\n\u001b[1;32m--> 205\u001b[0m \u001b[38;5;28mself\u001b[39m\u001b[38;5;241m.\u001b[39m_send_bytes(\u001b[43m_ForkingPickler\u001b[49m\u001b[38;5;241;43m.\u001b[39;49m\u001b[43mdumps\u001b[49m\u001b[43m(\u001b[49m\u001b[43mobj\u001b[49m\u001b[43m)\u001b[49m)\n",
      "File \u001b[1;32m~\\scoop\\apps\\python\\current\\Lib\\multiprocessing\\reduction.py:51\u001b[0m, in \u001b[0;36mForkingPickler.dumps\u001b[1;34m(cls, obj, protocol)\u001b[0m\n\u001b[0;32m     48\u001b[0m \u001b[38;5;129m@classmethod\u001b[39m\n\u001b[0;32m     49\u001b[0m \u001b[38;5;28;01mdef\u001b[39;00m \u001b[38;5;21mdumps\u001b[39m(\u001b[38;5;28mcls\u001b[39m, obj, protocol\u001b[38;5;241m=\u001b[39m\u001b[38;5;28;01mNone\u001b[39;00m):\n\u001b[0;32m     50\u001b[0m     buf \u001b[38;5;241m=\u001b[39m io\u001b[38;5;241m.\u001b[39mBytesIO()\n\u001b[1;32m---> 51\u001b[0m     \u001b[38;5;28;43mcls\u001b[39;49m\u001b[43m(\u001b[49m\u001b[43mbuf\u001b[49m\u001b[43m,\u001b[49m\u001b[43m \u001b[49m\u001b[43mprotocol\u001b[49m\u001b[43m)\u001b[49m\u001b[38;5;241;43m.\u001b[39;49m\u001b[43mdump\u001b[49m\u001b[43m(\u001b[49m\u001b[43mobj\u001b[49m\u001b[43m)\u001b[49m\n\u001b[0;32m     52\u001b[0m     \u001b[38;5;28;01mreturn\u001b[39;00m buf\u001b[38;5;241m.\u001b[39mgetbuffer()\n",
      "\u001b[1;31mPicklingError\u001b[0m: Can't pickle <function <lambda> at 0x00000294D8A99EE0>: attribute lookup <lambda> on __main__ failed"
     ]
    }
   ],
   "source": [
    "p = Pool(processes=6)\n",
    "dat = p.map(lambda x: get_etf_detail(x),tqdm(ids, desc=\"抓取etf数据\"))\n",
    "p.close()\n",
    "p.join()"
   ]
  },
  {
   "cell_type": "code",
   "execution_count": null,
   "id": "4170b05e-320c-4d98-aae3-ccf6e732fdd7",
   "metadata": {},
   "outputs": [],
   "source": [
    "dat"
   ]
  },
  {
   "cell_type": "code",
   "execution_count": null,
   "id": "16ab88ed-6d57-43e9-9d3d-b1e26ae6be1a",
   "metadata": {},
   "outputs": [],
   "source": [
    "dat1 = reduce(lambda x, y: x + y, dat)"
   ]
  },
  {
   "cell_type": "code",
   "execution_count": null,
   "id": "b93e6ce6-90ba-4913-a742-c04a1ff30928",
   "metadata": {},
   "outputs": [],
   "source": [
    "dat1"
   ]
  }
 ],
 "metadata": {
  "kernelspec": {
   "display_name": "Python 3 (ipykernel)",
   "language": "python",
   "name": "python3"
  },
  "language_info": {
   "codemirror_mode": {
    "name": "ipython",
    "version": 3
   },
   "file_extension": ".py",
   "mimetype": "text/x-python",
   "name": "python",
   "nbconvert_exporter": "python",
   "pygments_lexer": "ipython3",
   "version": "3.11.4"
  }
 },
 "nbformat": 4,
 "nbformat_minor": 5
}
