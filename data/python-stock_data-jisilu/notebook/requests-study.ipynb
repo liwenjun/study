{
 "cells": [
  {
   "cell_type": "code",
   "execution_count": null,
   "id": "76abfe18-16e0-4ae9-a913-821bc16b54e4",
   "metadata": {},
   "outputs": [],
   "source": [
    "import requests\n",
    "from fake_useragent import UserAgent"
   ]
  },
  {
   "cell_type": "code",
   "execution_count": null,
   "id": "2159084d-b9f1-4def-8b9d-9236a8a8005d",
   "metadata": {},
   "outputs": [],
   "source": [
    "baseUrl = 'https://www.jisilu.cn'\n",
    "\n",
    "# 指数etf\n",
    "etf1 = baseUrl + '/data/etf/etf_list/'\n",
    "etf1d = baseUrl + '/data/etf/detail_hists/'"
   ]
  },
  {
   "cell_type": "code",
   "execution_count": null,
   "id": "cc8d74aa-079d-4df2-91de-1b7cda2cee11",
   "metadata": {},
   "outputs": [],
   "source": [
    "ua = UserAgent()"
   ]
  },
  {
   "cell_type": "code",
   "execution_count": null,
   "id": "0e860067-f8c0-44f2-b29c-431ad3e97940",
   "metadata": {},
   "outputs": [],
   "source": [
    "headers = {\n",
    " 'User-Agent': ua.random\n",
    "}"
   ]
  },
  {
   "cell_type": "code",
   "execution_count": null,
   "id": "e73cd29d-da72-4bda-8814-8e5e993351c8",
   "metadata": {},
   "outputs": [],
   "source": [
    "headers"
   ]
  },
  {
   "cell_type": "code",
   "execution_count": null,
   "id": "8f4c822f-7212-4525-9271-1f7a5dcc6d17",
   "metadata": {},
   "outputs": [],
   "source": [
    "r = requests.get(etf1, headers=headers)"
   ]
  },
  {
   "cell_type": "code",
   "execution_count": null,
   "id": "15c6b45b-75ab-42c0-a9fd-2ad1b0e2ff56",
   "metadata": {},
   "outputs": [],
   "source": [
    "r.status_code"
   ]
  },
  {
   "cell_type": "code",
   "execution_count": null,
   "id": "e113e7e3-2fd3-4844-965f-e4f8933ae733",
   "metadata": {},
   "outputs": [],
   "source": [
    "r.headers['content-type']"
   ]
  },
  {
   "cell_type": "code",
   "execution_count": null,
   "id": "258f41a4-26c2-4788-b033-63eb2b7f0dbd",
   "metadata": {},
   "outputs": [],
   "source": [
    "r.headers"
   ]
  },
  {
   "cell_type": "code",
   "execution_count": null,
   "id": "572033ab-a895-4f25-a6fa-5fc0336048ef",
   "metadata": {},
   "outputs": [],
   "source": [
    "r.encoding"
   ]
  },
  {
   "cell_type": "code",
   "execution_count": null,
   "id": "9f61e50e-8d3d-4d40-a37d-f242bcc26c75",
   "metadata": {
    "scrolled": true
   },
   "outputs": [],
   "source": [
    "r.text"
   ]
  },
  {
   "cell_type": "code",
   "execution_count": null,
   "id": "387eebaf-a866-4a7c-98a8-a4634d29db59",
   "metadata": {},
   "outputs": [],
   "source": [
    "r.json()"
   ]
  },
  {
   "cell_type": "code",
   "execution_count": null,
   "id": "d0ec51bc-fdd1-4e23-a8b2-fc0a2c478de7",
   "metadata": {},
   "outputs": [],
   "source": [
    "data = {'is_search': 1, 'fund_id': '588080'}\n",
    "r = requests.post(etf1d, headers=headers, data=data)"
   ]
  },
  {
   "cell_type": "code",
   "execution_count": null,
   "id": "09d96097-477c-4edf-a260-d09d6c437ff7",
   "metadata": {},
   "outputs": [],
   "source": []
  }
 ],
 "metadata": {
  "kernelspec": {
   "display_name": "Python 3 (ipykernel)",
   "language": "python",
   "name": "python3"
  },
  "language_info": {
   "codemirror_mode": {
    "name": "ipython",
    "version": 3
   },
   "file_extension": ".py",
   "mimetype": "text/x-python",
   "name": "python",
   "nbconvert_exporter": "python",
   "pygments_lexer": "ipython3",
   "version": "3.11.4"
  }
 },
 "nbformat": 4,
 "nbformat_minor": 5
}
